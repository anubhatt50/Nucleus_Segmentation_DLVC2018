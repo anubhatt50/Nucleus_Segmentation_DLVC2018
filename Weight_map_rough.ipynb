{
 "cells": [
  {
   "cell_type": "markdown",
   "metadata": {},
   "source": [
    "## LOADING LIBRARIES"
   ]
  },
  {
   "cell_type": "code",
   "execution_count": null,
   "metadata": {
    "collapsed": true
   },
   "outputs": [],
   "source": [
    "import cv2\n",
    "import os\n",
    "import numpy as np\n",
    "import torch"
   ]
  },
  {
   "cell_type": "markdown",
   "metadata": {},
   "source": [
    "## CREATING WEIGHT MAPS"
   ]
  },
  {
   "cell_type": "code",
   "execution_count": null,
   "metadata": {
    "collapsed": true
   },
   "outputs": [],
   "source": [
    "n=670 #no. of images\n",
    "height=256 #height of image\n",
    "width=256 #width of image\n",
    "labeltensor=torch.FloatTensor(n, 1, height, width)\n",
    "parentlabelpath = 'F:\\study material\\DL\\MICCAI\\Data2\\label\\labels\\\\' #load mask image filepath\n",
    "for i in range(n):\n",
    "    img1 = cv2.imread(parentlabelpath + 'thumbnail'+ str(i+1) + '.png',0) #load image\n",
    "    path='F:\\\\study material\\\\DL\\\\MICCAI\\\\Data2\\\\train\\\\abc ('+str(i+1)+')\\\\masks' #loading individual nuclei masks of an image\n",
    "    count=0\n",
    "    for img in os.listdir(path):\n",
    "        new=os.path.join(path,img)\n",
    "        x=cv2.imread(new,0)\n",
    "        if count==0:\n",
    "            im=x\n",
    "            count=1\n",
    "        else:\n",
    "            im=cv2.bitwise_or(im,x)\n",
    "    res = cv2.resize(im,(256, 256), interpolation = cv2.INTER_CUBIC)\n",
    "    kernel = np.ones((3,3),np.uint8)\n",
    "    res=cv2.erode(res,kernel,iterations = 1)\n",
    "    img3=cv2.bitwise_xor(img1,res)\n",
    "    blur1 = cv2.GaussianBlur(img3,(3,3),0)\n",
    "    blur2 = cv2.GaussianBlur(img3,(5,5),0)\n",
    "    median = cv2.medianBlur(img3,3)\n",
    "    avg = cv2.blur(img3,(5,5))\n",
    "    label3,msk1=cv2.threshold(blur1,90, 255, cv2.THRESH_BINARY)\n",
    "    label4,msk2=cv2.threshold(blur2,90, 255, cv2.THRESH_BINARY)\n",
    "    '''Visualising weight maps'''\n",
    "    #cv2.imshow(\"img3\",msk1)\n",
    "    #cv2.imshow(\"img4\",msk2)\n",
    "    #cv2.waitKey(0)\n",
    "    mask=np.array(msk2)\n",
    "    mask = torch.from_numpy(mask)\n",
    "    mask=mask/255.\n",
    "    mask=mask*9\n",
    "    mask=mask+1\n",
    "    labeltensor[i] = mask"
   ]
  },
  {
   "cell_type": "code",
   "execution_count": null,
   "metadata": {
    "collapsed": true
   },
   "outputs": [],
   "source": [
    "torch.save(labeltensor, parentlabelpath + 'WeightMap.pth')"
   ]
  }
 ],
 "metadata": {
  "kernelspec": {
   "display_name": "Python [Root]",
   "language": "python",
   "name": "Python [Root]"
  },
  "language_info": {
   "codemirror_mode": {
    "name": "ipython",
    "version": 3
   },
   "file_extension": ".py",
   "mimetype": "text/x-python",
   "name": "python",
   "nbconvert_exporter": "python",
   "pygments_lexer": "ipython3",
   "version": "3.5.2"
  }
 },
 "nbformat": 4,
 "nbformat_minor": 0
}
